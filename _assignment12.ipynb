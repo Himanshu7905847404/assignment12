{
 "cells": [
  {
   "cell_type": "code",
   "execution_count": 20,
   "id": "a1ecc5b9-091a-4749-9ed8-9dd1ff833e83",
   "metadata": {},
   "outputs": [],
   "source": [
    "#Solution"
   ]
  },
  {
   "cell_type": "code",
   "execution_count": 22,
   "id": "cf1c687f-8726-4f13-9cf1-c9a0a7ace348",
   "metadata": {},
   "outputs": [],
   "source": [
    "# Q1.\n",
    "''' Exception in python is an : Exception is an event which occurs during the execution of program that disrupts the normal \n",
    "        flow of the program's instructions.\n",
    "    An Exception is an error \n",
    "    \n",
    "    Errors cannot be handled, while Python exceptions can be handled at the run time. \n",
    "    An error can be a syntax (parsing) error, while there can be many types of exceptions that could occur \n",
    "    during the execution and are not unconditionally inoperable.\n",
    "    \n",
    "'''\n",
    "\n",
    "import logging\n",
    "logging.basicConfig(filename=\"yes1.log\",level=logging.INFO)\n",
    "logging.info('''\n",
    "            Exception in python is an : Exception is an event which occurs during the execution of program that disrupts the normal flow of the program's instructions.\n",
    "            An Exception is an error \n",
    "            Errors cannot be handled, while Python exceptions can be handled at the run time. An error can be a syntax (parsing) error, \n",
    "            while there can be many types of exceptions that could occur  during the execution and are not unconditionally inoperable.''')"
   ]
  },
  {
   "cell_type": "code",
   "execution_count": 28,
   "id": "7d937a48-33e9-4569-aae5-25ab91d194e5",
   "metadata": {},
   "outputs": [
    {
     "name": "stdout",
     "output_type": "stream",
     "text": [
      "hello\n"
     ]
    },
    {
     "ename": "ZeroDivisionError",
     "evalue": "division by zero",
     "output_type": "error",
     "traceback": [
      "\u001b[0;31m---------------------------------------------------------------------------\u001b[0m",
      "\u001b[0;31mZeroDivisionError\u001b[0m                         Traceback (most recent call last)",
      "Cell \u001b[0;32mIn[28], line 5\u001b[0m\n\u001b[1;32m      2\u001b[0m \u001b[38;5;124;03m''' if an exception occurs during execution of the try clause, the exception may be handled by an except clause.\u001b[39;00m\n\u001b[1;32m      3\u001b[0m \u001b[38;5;124;03m    If the exception is not handled by an except clause, the exception is re-raised after the finally clause has been executed.'''\u001b[39;00m\n\u001b[1;32m      4\u001b[0m \u001b[38;5;28;01mtry\u001b[39;00m:\n\u001b[0;32m----> 5\u001b[0m     \u001b[38;5;241;43m2\u001b[39;49m\u001b[38;5;241;43m/\u001b[39;49m\u001b[38;5;241;43m0\u001b[39;49m\n\u001b[1;32m      6\u001b[0m \u001b[38;5;28;01mexcept\u001b[39;00m \u001b[38;5;167;01mSyntaxError\u001b[39;00m \u001b[38;5;28;01mas\u001b[39;00m e:\n\u001b[1;32m      7\u001b[0m     \u001b[38;5;28mprint\u001b[39m(e)\n",
      "\u001b[0;31mZeroDivisionError\u001b[0m: division by zero"
     ]
    }
   ],
   "source": [
    "# Q2.\n",
    "''' if an exception occurs during execution of the try clause, the exception may be handled by an except clause.\n",
    "    If the exception is not handled by an except clause, the exception is re-raised after the finally clause has been executed.'''\n",
    "try:\n",
    "    2/0\n",
    "except SyntaxError as e:\n",
    "    print(e)\n",
    "finally:\n",
    "    print(\"hello\")"
   ]
  },
  {
   "cell_type": "markdown",
   "id": "f0093e0b-afc1-4c71-afc4-c35b6e3182c7",
   "metadata": {},
   "source": [
    "'''\n",
    "eg when you want that the age which will enter by user is neither -ve nor exceed 105 year age then \n",
    "at that time no pre-defined exception will work so on that time only custom exception \n",
    "or that exception which created by programer will handle by using raise keyword.'''\n",
    "print()"
   ]
  },
  {
   "cell_type": "code",
   "execution_count": 29,
   "id": "4de1fb29-55aa-4595-8a30-c3e7eb807cfe",
   "metadata": {},
   "outputs": [
    {
     "name": "stdout",
     "output_type": "stream",
     "text": [
      "\n"
     ]
    }
   ],
   "source": [
    "'''\n",
    "eg when you want that the age which will enter by user is neither -ve nor exceed 105 year age then at that time\n",
    "no pre-defined exception will work so on that time only custom exception or \n",
    "that exception which created by programer will handle by using raise keyword'''\n",
    "print()"
   ]
  },
  {
   "cell_type": "code",
   "execution_count": 35,
   "id": "498fdb53-c6e6-4d01-945f-a5c404eacbee",
   "metadata": {},
   "outputs": [
    {
     "name": "stdout",
     "output_type": "stream",
     "text": [
      "[Errno 2] No such file or directory: 'eye.txt'\n",
      "this is finally block\n"
     ]
    }
   ],
   "source": [
    "#Q3.\n",
    "''' The try and except block in Python is used to catch and handle exceptions.'''\n",
    "try:\n",
    "    f=open(\"eye.txt\",\"r\")\n",
    "    f.read()\n",
    "except  FileNotFoundError as e:\n",
    "    print(e)\n",
    "finally:\n",
    "    print(\"this is finally block\")"
   ]
  },
  {
   "cell_type": "code",
   "execution_count": 41,
   "id": "96ce1bee-b61e-4b81-926f-578a97f1aeed",
   "metadata": {},
   "outputs": [
    {
     "name": "stdout",
     "output_type": "stream",
     "text": [
      "My name is himanshu verma\n",
      "This else block will only run when try block will execution without any exception\n",
      "\n",
      "This is  division by zero\n",
      "this block will always executed itself\n",
      "\n"
     ]
    },
    {
     "name": "stdin",
     "output_type": "stream",
     "text": [
      "Enter the age -23\n"
     ]
    },
    {
     "name": "stdout",
     "output_type": "stream",
     "text": [
      "entered age is negative\n"
     ]
    }
   ],
   "source": [
    "# Q4.\n",
    "# a).\n",
    "try:\n",
    "    print(\"My name is himanshu verma\")\n",
    "except Exception as e:\n",
    "    print(\"This is an exception block\",e)\n",
    "else:\n",
    "    print(\"This else block will only run when try block will execution without any exception\")\n",
    "    \n",
    "print()\n",
    "\n",
    "#b).\n",
    "try:\n",
    "    3/0\n",
    "except ZeroDivisionError as e:\n",
    "    print(\"This is \",e)\n",
    "finally:\n",
    "    print(\"this block will always executed itself\")\n",
    "\n",
    "print()\n",
    "\n",
    "#c).\n",
    "class validateage(Exception):\n",
    "    def __init__(self,msg):\n",
    "        self.msg=msg\n",
    "        \n",
    "def validaetage(age):\n",
    "    if age<0:\n",
    "        raise validateage(\"entered age is negative\")\n",
    "    elif age>200:\n",
    "        raise validateage(\"entered age is ver very high\")\n",
    "    else:\n",
    "        print(\"age is valid\")\n",
    "try:\n",
    "    age=int(input(\"Enter the age\"))\n",
    "    validaetage(age)\n",
    "except validateage as e:\n",
    "    print(e)"
   ]
  },
  {
   "cell_type": "code",
   "execution_count": null,
   "id": "bdbfe0a8-250d-45a3-af43-b16514a46ff2",
   "metadata": {},
   "outputs": [],
   "source": [
    "#Q5.\n",
    "''' Custom Exception is that type of exception which programmer want to show an exception this is not the pre-defined exception \n",
    "    it is a derivied by programmer eg given above Q4 c part \n",
    "    \n",
    "    we can define custom exceptions by creating a new class that is derived from the built-in Exception class\n",
    "    \n",
    "    Reason:\n",
    "    Built-in exceptions offer information about Python-related problems, and custom exceptions will add information about project-related problems. \n",
    "    That way, you can design your code (and traceback, if an exception is raised) in a way that combines Python code with the language of the project.\n",
    "    '''\n"
   ]
  },
  {
   "cell_type": "code",
   "execution_count": null,
   "id": "36465dda-740b-49a9-8e07-d611e868dedc",
   "metadata": {},
   "outputs": [],
   "source": []
  },
  {
   "cell_type": "code",
   "execution_count": null,
   "id": "5ec313ab-bbb0-4f74-82ad-201455d7816b",
   "metadata": {},
   "outputs": [],
   "source": []
  },
  {
   "cell_type": "code",
   "execution_count": null,
   "id": "4a5c1150-a28c-4eda-bbe6-458e6cc8ed64",
   "metadata": {},
   "outputs": [],
   "source": []
  }
 ],
 "metadata": {
  "kernelspec": {
   "display_name": "Python 3 (ipykernel)",
   "language": "python",
   "name": "python3"
  },
  "language_info": {
   "codemirror_mode": {
    "name": "ipython",
    "version": 3
   },
   "file_extension": ".py",
   "mimetype": "text/x-python",
   "name": "python",
   "nbconvert_exporter": "python",
   "pygments_lexer": "ipython3",
   "version": "3.10.8"
  }
 },
 "nbformat": 4,
 "nbformat_minor": 5
}
